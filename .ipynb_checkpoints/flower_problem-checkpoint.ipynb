{
 "cells": [
  {
   "cell_type": "code",
   "execution_count": 1,
   "metadata": {},
   "outputs": [],
   "source": [
    "%matplotlib inline"
   ]
  },
  {
   "cell_type": "code",
   "execution_count": null,
   "metadata": {},
   "outputs": [],
   "source": [
    "#each data entry is a flower of length and width, with type being 0=blue, 1=red.\n",
    "#We're building a neural network to predict color based off length and width"
   ]
  },
  {
   "cell_type": "code",
   "execution_count": 3,
   "metadata": {},
   "outputs": [],
   "source": [
    "from matplotlib import pyplot as plt\n",
    "import numpy as np"
   ]
  },
  {
   "cell_type": "code",
   "execution_count": 23,
   "metadata": {},
   "outputs": [],
   "source": [
    "#each point is length, width, type (0, 1)\n",
    "data = [[3, 1.5, 1],\n",
    "        [2, 1, 0],\n",
    "        [4, 1.5, 1],\n",
    "        [3, 1, 0],\n",
    "        [3.5, .5, 1], \n",
    "        [2, .5, 0],\n",
    "        [5.5, 1, 1],\n",
    "        [1, 1, 0]]\n",
    "\n",
    "#Mystery Flower for prediction after creating model\n",
    "mystery_flower = [4.5, 1]"
   ]
  },
  {
   "cell_type": "code",
   "execution_count": 24,
   "metadata": {},
   "outputs": [],
   "source": [
    "# network\n",
    "\n",
    "#   o flower type\n",
    "#  / \\ w1, w2, b\n",
    "# o   o length, width\n",
    "\n",
    "w1 = np.random.randn()\n",
    "w2 = np.random.randn()\n",
    "b = np.random.randn()"
   ]
  },
  {
   "cell_type": "code",
   "execution_count": 25,
   "metadata": {},
   "outputs": [],
   "source": [
    "def sigmoid(x):\n",
    "    return 1/(1 + np.exp(-x))\n",
    "\n",
    "def sigmoid_p(x):\n",
    "    return sigmoid(x) * (1 - sigmoid(x))\n"
   ]
  },
  {
   "cell_type": "code",
   "execution_count": 26,
   "metadata": {},
   "outputs": [
    {
     "data": {
      "text/plain": [
       "[<matplotlib.lines.Line2D at 0x1e74d71f5f8>]"
      ]
     },
     "execution_count": 26,
     "metadata": {},
     "output_type": "execute_result"
    },
    {
     "data": {
      "image/png": "[encoded data removed]",
      "text/plain": [
       "<Figure size 432x288 with 1 Axes>"
      ]
     },
     "metadata": {
      "needs_background": "light"
     },
     "output_type": "display_data"
    }
   ],
   "source": [
    "X = np.linspace(-5, 5, 100)\n",
    "Y = sigmoid(X)\n",
    "plt.plot(X, sigmoid(X), c='r')\n",
    "plt.plot(X, sigmoid_p(X), c='b')"
   ]
  },
  {
   "cell_type": "code",
   "execution_count": 37,
   "metadata": {},
   "outputs": [
    {
     "data": {
      "image/png": "[encoded data removed]",
      "text/plain": [
       "<Figure size 432x288 with 1 Axes>"
      ]
     },
     "metadata": {
      "needs_background": "light"
     },
     "output_type": "display_data"
    }
   ],
   "source": [
    "# scatter plot \n",
    "plt.axis([0, 6, 0, 6])\n",
    "plt.grid()\n",
    "for i in range(len(data)):\n",
    "    point = data[i]\n",
    "    color = \"r\"\n",
    "    if point[2] == 0:\n",
    "        color = \"b\"\n",
    "    plt.scatter(point[0], point[1], c = color)"
   ]
  },
  {
   "cell_type": "code",
   "execution_count": 59,
   "metadata": {},
   "outputs": [
    {
     "data": {
      "text/plain": [
       "[<matplotlib.lines.Line2D at 0x1e753246160>]"
      ]
     },
     "execution_count": 59,
     "metadata": {},
     "output_type": "execute_result"
    },
    {
     "data": {
      "image/png": "[encoded data removed]",
      "text/plain": [
       "<Figure size 432x288 with 1 Axes>"
      ]
     },
     "metadata": {
      "needs_background": "light"
     },
     "output_type": "display_data"
    }
   ],
   "source": [
    "# training loop \n",
    "\n",
    "#the higher the learning rate, the steeper the learning curve of the network\n",
    "learning_rate = .1\n",
    "#for visualization purposes\n",
    "costs = []\n",
    "\n",
    "#generate random weights\n",
    "w1 = np.random.randn()\n",
    "w2 = np.random.randn()\n",
    "#random bias\n",
    "b = np.random.randn()\n",
    "\n",
    "#can adjust range to any number, the larger the more training received\n",
    "for i in range (1000000):\n",
    "    #point is a random flower from the dataset\n",
    "    ri = np.random.randint(len(data))\n",
    "    point = data[ri]\n",
    "    \n",
    "    #predictive polynomial\n",
    "    z = point[0] * w1 + point[1] * w2 + b\n",
    "    \n",
    "    #sigmoid of the equation puts the result on a 0-1 scale, where 0 is blue\n",
    "    #and 1 is red, the closer the sigmoid to one of the options is how it makes\n",
    "    #a prediction\n",
    "    pred = sigmoid(z)\n",
    "    \n",
    "    #Measure how close the prediction is to the target\n",
    "    #The larger the cost, the further the prediction from the target\n",
    "    target = point[2]\n",
    "    cost = np.square(pred - target)\n",
    "    \n",
    "    #derivative of prediction and cost, used to find the slope of the line\n",
    "    #if you get the derivative of cost to 0 you have found the maximized position\n",
    "    dcost_pred = 2 * (pred - target)\n",
    "    dpred_dz = sigmoid_p(z)\n",
    "    \n",
    "    #derivative of variables\n",
    "    dz_dw1 = point[0]\n",
    "    dz_dw2 = point[1]\n",
    "    dz_db = 1\n",
    "    \n",
    "    \n",
    "    #derivative of the equation is used to judge the accuracy of each variable\n",
    "    #the lower the value, the more accurate the variable\n",
    "    dcost_dw1 = dcost_pred * dpred_dz * dz_dw1\n",
    "    dcost_dw2 = dcost_pred * dpred_dz * dz_dw2\n",
    "    dcost_db = dcost_pred * dpred_dz * dz_db\n",
    "    \n",
    "    #slowly adjust the variables closer to their optimum values\n",
    "    w1 = w1 - learning_rate * dcost_dw1\n",
    "    w2 = w2 - learning_rate * dcost_dw2\n",
    "    b = b - learning_rate * dcost_db\n",
    "    \n",
    "    #tracks costs for visualiztion\n",
    "    if i % 100 == 0:\n",
    "        cost_sum = 0\n",
    "        for j in range(len(data)):\n",
    "            point = data[ri]\n",
    "            \n",
    "            z = point[0] * w1 + point[1] * w2 + b\n",
    "            pred = sigmoid(z)\n",
    "            \n",
    "            target = point[2]\n",
    "            cost_sum += np.square(pred-target)\n",
    "            \n",
    "            costs.append(cost_sum/len(data))\n",
    "\n",
    "#Visualizes the increasing fit of the model            \n",
    "plt.plot(costs, c = 'b')\n",
    "    \n",
    "    \n",
    "    \n",
    "    \n",
    "    "
   ]
  },
  {
   "cell_type": "code",
   "execution_count": 60,
   "metadata": {},
   "outputs": [
    {
     "name": "stdout",
     "output_type": "stream",
     "text": [
      "[3, 1.5, 1]\n",
      "0.911552481491608\n",
      "[2, 1, 0]\n",
      "1.7415996410168555e-09\n",
      "[4, 1.5, 1]\n",
      "0.9999999986145278\n",
      "[3, 1, 0]\n",
      "0.10871089439132216\n",
      "[3.5, 0.5, 1]\n",
      "0.9235472468103004\n",
      "[2, 0.5, 0]\n",
      "2.0611365900289937e-11\n",
      "[5.5, 1, 1]\n",
      "1.0\n",
      "[1, 1, 0]\n",
      "2.4868075878295662e-17\n"
     ]
    }
   ],
   "source": [
    "#see model predictions\n",
    "for i in range(len(data)):\n",
    "    point = data[i]\n",
    "    print(point)\n",
    "    z = point[0] * w1 + point[1] * w2 + b \n",
    "    pred = sigmoid(z)\n",
    "    print(pred)"
   ]
  },
  {
   "cell_type": "code",
   "execution_count": 62,
   "metadata": {},
   "outputs": [],
   "source": [
    "import os"
   ]
  },
  {
   "cell_type": "code",
   "execution_count": 72,
   "metadata": {},
   "outputs": [],
   "source": [
    "#lets see what color our mystery flower is\n",
    "\n",
    "def which_flower(length, width):\n",
    "    z = length *w1 + width * w2 + b\n",
    "    pred = sigmoid(z)\n",
    "    if pred < .5:\n",
    "        print(\"blue: \" + str(pred))\n",
    "    else:\n",
    "        print(\"red: \" + str(pred))"
   ]
  },
  {
   "cell_type": "code",
   "execution_count": 73,
   "metadata": {},
   "outputs": [
    {
     "name": "stdout",
     "output_type": "stream",
     "text": [
      "red: 0.999999999986011\n"
     ]
    }
   ],
   "source": [
    "which_flower(4.5, 1)"
   ]
  },
  {
   "cell_type": "code",
   "execution_count": null,
   "metadata": {},
   "outputs": [],
   "source": [
    "#try out different values "
   ]
  }
 ],
 "metadata": {
  "kernelspec": {
   "display_name": "Python 3",
   "language": "python",
   "name": "python3"
  },
  "language_info": {
   "codemirror_mode": {
    "name": "ipython",
    "version": 3
   },
   "file_extension": ".py",
   "mimetype": "text/x-python",
   "name": "python",
   "nbconvert_exporter": "python",
   "pygments_lexer": "ipython3",
   "version": "3.7.0"
  }
 },
 "nbformat": 4,
 "nbformat_minor": 2
}
